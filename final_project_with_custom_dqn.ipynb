{
  "nbformat": 4,
  "nbformat_minor": 0,
  "metadata": {
    "colab": {
      "name": "final project with custom dqn.ipynb",
      "provenance": [],
      "collapsed_sections": [],
      "toc_visible": true,
      "include_colab_link": true
    },
    "kernelspec": {
      "name": "python3",
      "display_name": "Python 3"
    },
    "accelerator": "GPU"
  },
  "cells": [
    {
      "cell_type": "markdown",
      "metadata": {
        "id": "view-in-github",
        "colab_type": "text"
      },
      "source": [
        "<a href=\"https://colab.research.google.com/github/jems2019/MastersProjectWebApp/blob/master/final_project_with_custom_dqn.ipynb\" target=\"_parent\"><img src=\"https://colab.research.google.com/assets/colab-badge.svg\" alt=\"Open In Colab\"/></a>"
      ]
    },
    {
      "cell_type": "code",
      "metadata": {
        "id": "HM26lztDUcou",
        "colab_type": "code",
        "outputId": "7a6fe470-0fdf-4a72-8780-5f1587cdd839",
        "colab": {
          "base_uri": "https://localhost:8080/",
          "height": 68
        }
      },
      "source": [
        "%matplotlib inline\n",
        "%tensorflow_version 2.x\n",
        "\n",
        "import random\n",
        "import gym\n",
        "from gym import spaces\n",
        "\n",
        "import json\n",
        "import datetime as dt\n",
        "import random \n",
        "\n",
        "import numpy as np\n",
        "import pandas as pd\n",
        "import collections\n",
        "from scipy.stats import norm\n",
        "\n",
        "\n",
        "import matplotlib.pyplot as plt\n",
        "\n",
        "\n",
        "import tensorflow as tf\n",
        "\n",
        "from tensorflow import keras\n",
        "\n",
        "from tensorflow.keras.models import Sequential\n",
        "from tensorflow.keras.layers import Dense\n",
        "from tensorflow.keras.optimizers import Adam\n",
        "\n",
        "print(tf.__version__)\n",
        "print(tf.test.is_gpu_available())"
      ],
      "execution_count": 0,
      "outputs": [
        {
          "output_type": "stream",
          "text": [
            "TensorFlow 2.x selected.\n",
            "2.0.0\n",
            "True\n"
          ],
          "name": "stdout"
        }
      ]
    },
    {
      "cell_type": "code",
      "metadata": {
        "id": "1cngJjw2Eirm",
        "colab_type": "code",
        "outputId": "08fe0f00-1b54-4e0b-9736-9bfbd57a3f4d",
        "colab": {
          "base_uri": "https://localhost:8080/",
          "height": 122
        }
      },
      "source": [
        "from google.colab import drive\n",
        "drive.mount('/content/drive')"
      ],
      "execution_count": 0,
      "outputs": [
        {
          "output_type": "stream",
          "text": [
            "Go to this URL in a browser: https://accounts.google.com/o/oauth2/auth?client_id=947318989803-6bn6qk8qdgf4n4g3pfee6491hc0brc4i.apps.googleusercontent.com&redirect_uri=urn%3aietf%3awg%3aoauth%3a2.0%3aoob&response_type=code&scope=email%20https%3a%2f%2fwww.googleapis.com%2fauth%2fdocs.test%20https%3a%2f%2fwww.googleapis.com%2fauth%2fdrive%20https%3a%2f%2fwww.googleapis.com%2fauth%2fdrive.photos.readonly%20https%3a%2f%2fwww.googleapis.com%2fauth%2fpeopleapi.readonly\n",
            "\n",
            "Enter your authorization code:\n",
            "··········\n",
            "Mounted at /content/drive\n"
          ],
          "name": "stdout"
        }
      ]
    },
    {
      "cell_type": "code",
      "metadata": {
        "id": "xEx8OmisukKJ",
        "colab_type": "code",
        "outputId": "b827018e-bdcf-4b80-b216-5f086c5184ec",
        "colab": {
          "base_uri": "https://localhost:8080/",
          "height": 265
        }
      },
      "source": [
        "# load data from google drive - this should work for all of us since we all have access to this folder\n",
        "file_path = '/content/drive/My Drive/Masters project /data/sandp500.csv'\n",
        "my_df = pd.read_csv(file_path)\n",
        "\n",
        "plt.plot(my_df['High'])\n",
        "plt.plot(my_df['Low'])\n",
        "plt.show()"
      ],
      "execution_count": 0,
      "outputs": [
        {
          "output_type": "display_data",
          "data": {
            "image/png": "[encoded data removed]",
            "text/plain": [
              "<Figure size 432x288 with 1 Axes>"
            ]
          },
          "metadata": {
            "tags": []
          }
        }
      ]
    },
    {
      "cell_type": "code",
      "metadata": {
        "id": "UPiDVy2HZyCJ",
        "colab_type": "code",
        "outputId": "f12568d4-b48d-400a-9f91-2d002466ce2b",
        "colab": {
          "base_uri": "https://localhost:8080/",
          "height": 282
        }
      },
      "source": [
        "from pandas_datareader.data import DataReader\n",
        "\n",
        "aapl = DataReader('FORD', 'yahoo', '1990-01-01')\n",
        "\n",
        "print(aapl.shape)\n",
        "plt.plot(aapl['High'])\n",
        "plt.plot(aapl['Low'])\n",
        "plt.show()"
      ],
      "execution_count": 0,
      "outputs": [
        {
          "output_type": "stream",
          "text": [
            "(6308, 6)\n"
          ],
          "name": "stdout"
        },
        {
          "output_type": "display_data",
          "data": {
            "image/png": "[encoded data removed]",
            "text/plain": [
              "<Figure size 432x288 with 1 Axes>"
            ]
          },
          "metadata": {
            "tags": []
          }
        }
      ]
    },
    {
      "cell_type": "code",
      "metadata": {
        "id": "iFDRy0-fcxPs",
        "colab_type": "code",
        "outputId": "21e9a471-6bd9-4eac-a637-04ca3fb9a4ff",
        "colab": {
          "base_uri": "https://localhost:8080/",
          "height": 34
        }
      },
      "source": [
        "appl.head()"
      ],
      "execution_count": 0,
      "outputs": [
        {
          "output_type": "execute_result",
          "data": {
            "text/plain": [
              "29.850000381469727"
            ]
          },
          "metadata": {
            "tags": []
          },
          "execution_count": 12
        }
      ]
    },
    {
      "cell_type": "markdown",
      "metadata": {
        "id": "yYDsycGLE7Y6",
        "colab_type": "text"
      },
      "source": [
        "## Custom Gym Environment"
      ]
    },
    {
      "cell_type": "code",
      "metadata": {
        "id": "upevKA6_upd0",
        "colab_type": "code",
        "colab": {}
      },
      "source": [
        "#df = pd.read_csv('./data/AAPL.csv')\n",
        "MAX_ACCOUNT_BALANCE = 100000000.0\n",
        "MAX_NUM_SHARES = 100000000.0\n",
        "\n",
        "# this should be set by the data lol\n",
        "MAX_SHARE_PRICE = 5000\n",
        "# max steps used to decay the reward for early steps in environment\n",
        "MAX_STEPS = 20000\n",
        "\n",
        "#start with $100,000\n",
        "INITIAL_ACCOUNT_BALANCE = 100000"
      ],
      "execution_count": 0,
      "outputs": []
    },
    {
      "cell_type": "code",
      "metadata": {
        "id": "lDar-R3HE672",
        "colab_type": "code",
        "colab": {}
      },
      "source": [
        "# based off of https://towardsdatascience.com/creating-a-custom-openai-gym-environment-for-stock-trading-be532be3910e\n",
        "class StockTradingEnv(gym.Env):\n",
        "    metadata = {'render.modes': ['human']}\n",
        "    \n",
        "    def __init__(self, df):\n",
        "        super(StockTradingEnv, self).__init__()\n",
        "        # dataframe of stock timeline, the data needed to run the sim\n",
        "        self.df = df\n",
        "\n",
        "        # range of possible rewards at each state, used for the environment, never used by user\n",
        "        self.reward_range = (0, MAX_ACCOUNT_BALANCE)     # Actions of the format Buy x%, Sell x%, Hold, etc.\n",
        "        # action space is 4 values [buy, sell, hold, % amount]\n",
        "        # action type is the first 3. first is buy, second is sell, third is hold\n",
        "        # last item is the percentage of stocks to sell or buy\n",
        "        # action space low value and high value\n",
        "        self.action_space = spaces.Box(\n",
        "            low=np.array([0, 0, 0, 0]), high=np.array([1, 1, 1, 1]), dtype=np.float16)    # Prices contains the OHCL values for the last five prices\n",
        "        \n",
        "        # observation space is 2 arrays size 6\n",
        "        # first array holds stock timeline info, last 5 days of opening, high, low, closing, and volume of stock\n",
        "        # second array is info of the agent: balance, stocks held, net worth etc.\n",
        "        self.observation_space = spaces.Box(\n",
        "            low=0, high=1, shape=(6, 7), dtype=np.float16)\n",
        "        \n",
        "        self.reset()\n",
        "        \n",
        "    def reset(self):\n",
        "        # Reset the state of the environment to an initial state\n",
        "        # set these as the same to start\n",
        "        self.balance = INITIAL_ACCOUNT_BALANCE # available money to buy stock\n",
        "        self.net_worth = INITIAL_ACCOUNT_BALANCE # balance + stock equity value\n",
        "        self.max_net_worth = INITIAL_ACCOUNT_BALANCE # greatest net worth\n",
        "\n",
        "        #start with no shares \n",
        "        self.shares_held = 0\n",
        "        #cost basis - original value of asset, purchase price adjusted by stock splits, dividends, and return of capital distributions\n",
        "        self.cost_basis = 0\n",
        "        self.total_shares_sold = 0\n",
        "        self.total_sales_value = 0\n",
        "\n",
        "        # Set the current step to a random point within the data frame to get different 'experiences' per reset\n",
        "        self.current_step = random.randint(5, len(self.df.loc[:, 'Open'].values)) \n",
        "        print('reset on ' + self.df.loc[self.current_step, 'Date'])\n",
        "        return self.next_observation()\n",
        "\n",
        "\n",
        "    def monteCarloSimulation(self, days):\n",
        "        t_intervals = days + 1\n",
        "        iterations = 100\n",
        "\n",
        "        # Estimate the historical log returns\n",
        "        # Using the percent change method to obtain the simple returns from the dataset\n",
        "        log_returns = np.log(1 + self.df[['Adj Close']].pct_change())\n",
        "\n",
        "        # mean\n",
        "        u = log_returns.mean()\n",
        "\n",
        "        # variance\n",
        "        var = log_returns.var()\n",
        "\n",
        "        # compute the drift component\n",
        "        # it is the best approximation of future rates of return of the stock\n",
        "        drift = u - (0.5 * var)\n",
        "\n",
        "        # standard deviation of log returns\n",
        "        stdev = log_returns.std()\n",
        "\n",
        "        # getting a randomized multidimensional array that will insert 2 args\n",
        "        x = np.random.rand(10, 2)\n",
        "\n",
        "        # include the random element within the ppf distribution to obtain the distance from \n",
        "        # the mean corresponding to each of the randomly generated probabilities\n",
        "        Z = norm.ppf(x)\n",
        "\n",
        "        # the daily returns will represent the e^r from the Brownian motion\n",
        "        daily_returns = np.exp(drift.values + stdev.values * norm.ppf(np.random.rand(t_intervals, iterations)))\n",
        "\n",
        "        # Create price list - the price list will equal the product of the price\n",
        "        # observed the previous day and the simulated daily return\n",
        "        # The first stock price used will be the last one from the dataset\n",
        "        S0 = self.df[['Adj Close']].iloc[-1]\n",
        "\n",
        "        # initiating price list for the list of prices with the expected stock prices\n",
        "        price_list = np.zeros_like(daily_returns)\n",
        "\n",
        "        # setting the entire first row of 10 elements to S0 because that would be the \n",
        "        # initial price for each of the 10 iterations we intend to generate\n",
        "        price_list[0] = S0\n",
        "\n",
        "        # generate values for the price list\n",
        "        for t in range(1, t_intervals):\n",
        "            price_list[t] = price_list[t - 1] * daily_returns[t]\n",
        "\n",
        "        # looks 'days' amount ahead for simulation\n",
        "        sim = np.mean(price_list[days])\n",
        "        return sim\n",
        "\n",
        "    \n",
        "    def next_observation(self):\n",
        "\n",
        "         # Creating simulated stock price estimate for the next day\n",
        "        self.simulated_closed_value = self.monteCarloSimulation(1)\n",
        "        # sims for the next 6 days\n",
        "        monte_carlo_closings = []\n",
        "        for i in range(1,7):\n",
        "            monte_carlo_closings.append(self.monteCarloSimulation(i)/MAX_SHARE_PRICE)\n",
        "\n",
        "        # Get the data points for the current day + last 5 days and scale to between 0-1\n",
        "        # uses opening values, high values, low values, closing values, and volume per day\n",
        "        frame = np.array([\n",
        "            self.df.loc[self.current_step-5: self.current_step,'Open'].values / MAX_SHARE_PRICE,\n",
        "            self.df.loc[self.current_step-5: self.current_step, 'High'].values / MAX_SHARE_PRICE,\n",
        "            self.df.loc[self.current_step-5: self.current_step, 'Low'].values / MAX_SHARE_PRICE,\n",
        "            self.df.loc[self.current_step-5: self.current_step, 'Close'].values / MAX_SHARE_PRICE,\n",
        "            self.df.loc[self.current_step-5: self.current_step, 'Volume'].values / MAX_NUM_SHARES,\n",
        "            monte_carlo_closings,\n",
        "        ])  \n",
        "        # observation includes past 5 day data, and user's balance and amount of shares hold etc.\n",
        "        # Append additional data and scale each value to between 0-1\n",
        "        obs = np.append(frame, [[\n",
        "            self.balance / MAX_ACCOUNT_BALANCE,\n",
        "            self.max_net_worth / MAX_ACCOUNT_BALANCE,\n",
        "            self.shares_held / MAX_NUM_SHARES,\n",
        "            self.cost_basis / MAX_SHARE_PRICE,\n",
        "            self.total_shares_sold / MAX_NUM_SHARES,\n",
        "            self.total_sales_value / (MAX_NUM_SHARES * MAX_SHARE_PRICE),\n",
        "        ]], axis=0)\n",
        "\n",
        "        return obs\n",
        "    \n",
        "\n",
        "    def take_action(self, action):\n",
        "        # Set the current price to a random price within the time step\n",
        "        # this mimics day by day variance\n",
        "        # current price of the stock \n",
        "        current_price = random.uniform(\n",
        "            self.df.loc[self.current_step, \"Open\"],\n",
        "            self.df.loc[self.current_step, \"Close\"]) \n",
        "\n",
        "        # first three parts of action is type of action\n",
        "        # taking the max between action[0:2] \n",
        "        action_type = np.argmax(action[0:2])\n",
        "        # second part is the amount of stocks to sell/buy in percent (0,1) of possible total stocks you can buy at the time\n",
        "        # ex. if action[3] = .5 and buying, buy 50% of the possible total stocks you can buy with current balance\n",
        "        # ex. if action[3] = .5 and selling, sell 50% of your held stocks\n",
        "        # clip the value to be between [0,1]\n",
        "        amount = np.clip(action[3], 0, 1)  \n",
        "\n",
        "        if action_type == 0:\n",
        "            # Buy amount % of balance in shares\n",
        "            #total possible amount of shares you can buy\n",
        "            total_possible = int(self.balance / current_price)\n",
        "            # number of shares bought in step\n",
        "            shares_bought = int(total_possible * amount)\n",
        "\n",
        "            # calculate cost to buy the shares, and buy them by subtracting the cost from your balance\n",
        "            additional_cost = shares_bought * current_price\n",
        "            self.balance -= additional_cost\n",
        "            \n",
        "            #calculate cost basis  \n",
        "            prev_cost = self.cost_basis * self.shares_held\n",
        "            self.cost_basis = (prev_cost + additional_cost) / (self.shares_held + shares_bought)\n",
        "\n",
        "            # update the number of shares hold\n",
        "            self.shares_held += shares_bought  \n",
        "\n",
        "        elif action_type == 1:\n",
        "            # Sell amount % of shares held\n",
        "            shares_sold = int(self.shares_held * amount)\n",
        "            \n",
        "            # sell shares and add to balance\n",
        "            self.balance += shares_sold * current_price\n",
        "            self.shares_held -= shares_sold\n",
        "\n",
        "            # update some logging variables\n",
        "            self.total_shares_sold += shares_sold\n",
        "            self.total_sales_value += shares_sold * current_price  \n",
        "\n",
        "        # calcuate net worth, which is balance(cash) + shares\n",
        "        self.net_worth = self.balance + self.shares_held * current_price \n",
        "\n",
        "        # update max_net_worth and cost basis\n",
        "        if self.net_worth > self.max_net_worth:\n",
        "            self.max_net_worth = self.net_worth  \n",
        "        if self.shares_held == 0:\n",
        "            self.cost_basis = 0\n",
        "\n",
        "\n",
        "    def step(self, action):\n",
        "        # Execute one time step within the environment\n",
        "        self.take_action(action)  \n",
        "        self.current_step += 1  \n",
        "\n",
        "        # check if there are still possible days in the stock timeline\n",
        "        # if theere are no more days, reset to the begining of the timeline\n",
        "        if(self.current_step >= len(self.df.loc[:, 'Open'].values)):\n",
        "            self.current_step = 5\n",
        "        \n",
        "        # delay the reward based on the number of steps taken\n",
        "        # so early on in timeline, rewards are small  \n",
        "        # this can probably be changed to something more interesting\n",
        "        delay_modifier = (self.current_step / MAX_STEPS)\n",
        "\n",
        "        # check if you have lost more than half your starting money\n",
        "        done = self.net_worth < INITIAL_ACCOUNT_BALANCE/2\n",
        "\n",
        "        # reward for current action is the net worth with the delay\n",
        "        # reward = self.net_worth * delay_modifier\n",
        "        if not (done): # positive reward if didn't lose money\n",
        "          reward = 1 + delay_modifier\n",
        "        else:\n",
        "          reward = -10\n",
        "\n",
        "        obs = self.next_observation()  \n",
        "        return obs, reward, done, {}\n",
        "\n",
        "            \n",
        "    def render(self, mode='human', close=False):\n",
        "        # Render the environment to the screen\n",
        "        # profit is the total increase of net worth from the start\n",
        "        profit = self.net_worth - INITIAL_ACCOUNT_BALANCE\n",
        "\n",
        "        print(f'Step: {self.current_step}')\n",
        "        print('Date: ' + str( self.df.loc[self.current_step, 'Date']))\n",
        "        print(f'Balance: {self.balance}')\n",
        "        print(\n",
        "            f'Shares held: {self.shares_held} (Total sold: {self.total_shares_sold})')\n",
        "        print(\n",
        "            f'Avg cost for held shares: {self.cost_basis} (Total sales value: {self.total_sales_value})')\n",
        "        print(\n",
        "            f'Net worth: {self.net_worth} (Max net worth: {self.max_net_worth})')\n",
        "        print(f'Profit: {profit}')\n",
        "\n",
        "    def get_profit(self):\n",
        "        return self.net_worth - INITIAL_ACCOUNT_BALANCE\n",
        "\n"
      ],
      "execution_count": 0,
      "outputs": []
    },
    {
      "cell_type": "markdown",
      "metadata": {
        "id": "l5Z3P9y7SYzi",
        "colab_type": "text"
      },
      "source": [
        "# Ring Buffer for memory managment "
      ]
    },
    {
      "cell_type": "code",
      "metadata": {
        "id": "RrECyv44SYoE",
        "colab_type": "code",
        "colab": {}
      },
      "source": [
        "class RingBuffer:\n",
        "    \"\"\" class that implements a not-yet-full buffer \"\"\"\n",
        "    def __init__(self,size_max):\n",
        "        self.max = size_max\n",
        "        self.data = []\n",
        "\n",
        "    class __Full:\n",
        "        \"\"\" class that implements a full buffer \"\"\"\n",
        "        def append(self, x):\n",
        "            \"\"\" Append an element overwriting the oldest one. \"\"\"\n",
        "            self.data[self.cur] = x\n",
        "            self.cur = (self.cur+1) % self.max\n",
        "        def get(self):\n",
        "            \"\"\" return list of elements in correct order \"\"\"\n",
        "            return self.data[self.cur:]+self.data[:self.cur]\n",
        "\n",
        "    def append(self,x):\n",
        "        \"\"\"append an element at the end of the buffer\"\"\"\n",
        "        self.data.append(x)\n",
        "        if len(self.data) == self.max:\n",
        "            self.cur = 0\n",
        "            # Permanently change self's class from non-full to full\n",
        "            self.__class__ = self.__Full\n",
        "\n",
        "    def get(self):\n",
        "        \"\"\" Return a list of elements from the oldest to the newest. \"\"\"\n",
        "        return self.data"
      ],
      "execution_count": 0,
      "outputs": []
    },
    {
      "cell_type": "markdown",
      "metadata": {
        "id": "4jqX3sdEnTRP",
        "colab_type": "text"
      },
      "source": [
        "# Experience buffer"
      ]
    },
    {
      "cell_type": "code",
      "metadata": {
        "id": "u5u89RBinVtN",
        "colab_type": "code",
        "colab": {}
      },
      "source": [
        "class ExperienceBuffer:\n",
        "    def __init__(self, capacity):\n",
        "        self.buffer = collections.deque(maxlen=capacity)\n",
        "\n",
        "    def __len__(self):\n",
        "        return len(self.buffer)\n",
        "\n",
        "    def append(self, experience):\n",
        "        self.buffer.append(experience)\n",
        "\n",
        "    def sample(self, batch_size):\n",
        "        indices = np.random.choice(len(self.buffer), batch_size, replace=False)\n",
        "        return zip(*[self.buffer[idx] for idx in indices])\n",
        "        # states, actions, rewards, dones, next_states = zip(*[self.buffer[idx] for idx in indices])\n",
        "        # return np.array(states), np.array(actions), np.array(rewards, dtype=np.float32), \\\n",
        "        #        np.array(dones, dtype=np.uint8), np.array(next_states)\n"
      ],
      "execution_count": 0,
      "outputs": []
    },
    {
      "cell_type": "markdown",
      "metadata": {
        "id": "1lMwN3Fzu_6K",
        "colab_type": "text"
      },
      "source": [
        "# DQN Agent"
      ]
    },
    {
      "cell_type": "code",
      "metadata": {
        "id": "t1JvZcH7uxbv",
        "colab_type": "code",
        "colab": {}
      },
      "source": [
        "# Deep Q-learning Agent\n",
        "class DQNAgent:\n",
        "    def __init__(self, state_size, action_size):\n",
        "        \n",
        "        self.state_size = state_size # 6 x 7 - observation space\n",
        "        self.action_size = action_size # (buy, sell, hold), (percentage for action)\n",
        "        self.memory = RingBuffer(500) # holds the last 100 days\n",
        "        self.gamma = 0.95    # discount rate\n",
        "        self.epsilon = 1.0  # exploration rate\n",
        "        self.epsilon_min = 0.01\n",
        "        self.epsilon_decay = 0.995\n",
        "        self.learning_rate = 0.001\n",
        "        self.model = self._build_model()\n",
        "        self.model = tf.keras.load_model('')\n",
        "\n",
        "    def _build_model(self):\n",
        "        # Neural Net for Deep-Q learning Model\n",
        "        model = Sequential()\n",
        "        model.add(Dense(24, input_shape=(self.state_size,), activation='relu')) # will change to 42 once we change to 6*7 state size\n",
        "        model.add(Dense(24, activation='relu'))\n",
        "        model.add(Dense(24, activation='relu'))\n",
        "        model.add(Dense(self.action_size)) # (buy, sell, hold), (percentage for action)\n",
        "        model.compile(loss='mse', optimizer=Adam(lr=self.learning_rate))\n",
        "\n",
        "        model.summary()\n",
        "\n",
        "        return model\n",
        "\n",
        "    # puts into memory\n",
        "    def remember(self, state, action, reward, next_state, done):\n",
        "        self.memory.append((state, action, reward, next_state, done))\n",
        "\n",
        "    # choose random action based on epsilon\n",
        "    def act(self, state):\n",
        "        if np.random.rand() <= self.epsilon:\n",
        "            return np.random.rand(1, self.action_size)\n",
        "        act_values = self.model.predict(state)\n",
        "        return act_values  # returns action\n",
        "        \n",
        "    # learn function - train\n",
        "    def replay(self, batch_size):\n",
        "        # batch size sample from memory\n",
        "        # ex: if batch size is 32, it would take 32 random days from the 1000 memory that we have\n",
        "        minibatch = random.sample(self.memory.get(), batch_size) \n",
        "        # minibatch = self.memory.sample(batch_size)\n",
        "        # state, action, reward, next_state, done = minibatch\n",
        "        for state, action, reward, next_state, done in minibatch:\n",
        "            target = reward\n",
        "            if not done:\n",
        "                # Bellman equation\n",
        "                # np.amax(self.model.predict(next_state.flatten().reshape(1,self.state_size))[0][0:2]) - next action\n",
        "                target = reward + self.gamma * np.amax(self.model.predict(next_state.flatten().reshape(1,self.state_size))[0])\n",
        "            \n",
        "            # action space to fit NN\n",
        "            target_f = self.model.predict(state.flatten().reshape(1,self.state_size))\n",
        "            # what action that was taken\n",
        "            p_action = np.argmax(action[0:3])\n",
        "            # replace action that you take with the target value\n",
        "            target_f[0][p_action] = target\n",
        "            self.model.fit(state.flatten().reshape(1,self.state_size), target_f, epochs=1, verbose=0)\n",
        "        if self.epsilon > self.epsilon_min:\n",
        "            self.epsilon *= self.epsilon_decay\n",
        "\n",
        "\n"
      ],
      "execution_count": 0,
      "outputs": []
    },
    {
      "cell_type": "markdown",
      "metadata": {
        "id": "lvNK-wvcvC0O",
        "colab_type": "text"
      },
      "source": [
        "# Build Environments and Agent"
      ]
    },
    {
      "cell_type": "code",
      "metadata": {
        "id": "65ZjF90fuyTj",
        "colab_type": "code",
        "outputId": "02245869-fe0c-4fba-e364-fe29acf08a2b",
        "colab": {
          "base_uri": "https://localhost:8080/",
          "height": 629
        }
      },
      "source": [
        "env = StockTradingEnv(my_df)\n",
        "\n",
        "print(env.observation_space.shape)\n",
        "print(env.action_space.shape)\n",
        "env.reset()\n",
        "\n",
        "tf.keras.backend.clear_session()\n",
        "agent = DQNAgent(42, 4)\n",
        "\n",
        "action = agent.act(env.next_observation().reshape(1,42))\n",
        "print(action)\n",
        "\n",
        "obs, reward, done, _ = env.step(action[0])\n",
        "\n",
        "print(obs)\n",
        "print(reward)\n",
        "#print(env.next_observation().flatten().reshape(1,36))"
      ],
      "execution_count": 0,
      "outputs": [
        {
          "output_type": "stream",
          "text": [
            "reset on 2018-12-13\n",
            "(6, 7)\n",
            "(4,)\n",
            "reset on 2012-08-13\n",
            "Model: \"sequential\"\n",
            "_________________________________________________________________\n",
            "Layer (type)                 Output Shape              Param #   \n",
            "=================================================================\n",
            "dense (Dense)                (None, 24)                1032      \n",
            "_________________________________________________________________\n",
            "dense_1 (Dense)              (None, 24)                600       \n",
            "_________________________________________________________________\n",
            "dense_2 (Dense)              (None, 24)                600       \n",
            "_________________________________________________________________\n",
            "dense_3 (Dense)              (None, 4)                 100       \n",
            "=================================================================\n",
            "Total params: 2,332\n",
            "Trainable params: 2,332\n",
            "Non-trainable params: 0\n",
            "_________________________________________________________________\n",
            "[[0.45020493 0.96176996 0.33737666 0.11232573]]\n",
            "[[2.78891992e-01 2.80245996e-01 2.80452002e-01 2.80515991e-01\n",
            "  2.81173999e-01 2.80871997e-01]\n",
            " [2.81428003e-01 2.80828003e-01 2.81189990e-01 2.81195996e-01\n",
            "  2.81173999e-01 2.82006006e-01]\n",
            " [2.78891992e-01 2.79226001e-01 2.79760010e-01 2.79123999e-01\n",
            "  2.79463989e-01 2.80119995e-01]\n",
            " [2.80269995e-01 2.80443994e-01 2.80560010e-01 2.81173999e-01\n",
            "  2.80821997e-01 2.80786011e-01]\n",
            " [3.68249000e+01 3.22179000e+01 3.11961000e+01 2.76798000e+01\n",
            "  2.49999000e+01 2.93090000e+01]\n",
            " [6.13029834e-01 6.13317057e-01 6.14582797e-01 6.13018519e-01\n",
            "  6.12655599e-01 6.15090823e-01]\n",
            " [1.00000000e-03 1.00000000e-03 0.00000000e+00 0.00000000e+00\n",
            "  0.00000000e+00 0.00000000e+00]]\n",
            "1.03295\n"
          ],
          "name": "stdout"
        }
      ]
    },
    {
      "cell_type": "markdown",
      "metadata": {
        "id": "10IwdEIJvNPR",
        "colab_type": "text"
      },
      "source": [
        "# Train Agent"
      ]
    },
    {
      "cell_type": "code",
      "metadata": {
        "id": "ThvSpZY7u3Va",
        "colab_type": "code",
        "outputId": "d76617b1-5aec-42eb-d942-4d49bc39199e",
        "colab": {
          "base_uri": "https://localhost:8080/",
          "height": 1000
        }
      },
      "source": [
        "# Iterate the stock trading\n",
        "episodes = 100\n",
        "\n",
        "for e in range(episodes):\n",
        "    # reset state in the beginning of each game\n",
        "    state = env.reset()\n",
        "    # time_t represents each frame of the game\n",
        "    # Our goal is to keep the pole upright as long as possible until score of 500\n",
        "    # the more time_t the more score\n",
        "    # Runs through ~2 years per episode \n",
        "    for time_t in range(500):\n",
        "        # turn this on if you want to render\n",
        "        # env.render()\n",
        "        # Decide action\n",
        "        action = agent.act(state.flatten().reshape(1,42))\n",
        "        next_state, reward, done, _ = env.step(action[0])\n",
        "        # Remember the previous state, action, reward, and done\n",
        "        agent.remember(state, action, reward, next_state, done)\n",
        "        # make next_state the new current state for the next frame.\n",
        "        state = next_state\n",
        "        # done becomes True when the game ends\n",
        "        # ex) The agent drops the pole\n",
        "        if done:\n",
        "            # print the score and break out of the loop\n",
        "            print(\"episode: {}/{}, score: {}\".format(e, episodes, time_t))\n",
        "            break\n",
        "    # train the agent with the experience of the episode\n",
        "    agent.replay(32)\n",
        "\n",
        "    if (e % 10 == 0):\n",
        "        print('episode ' + str(e))\n",
        "\n",
        "    #env.render()\n",
        "\n",
        "print('done')"
      ],
      "execution_count": 0,
      "outputs": [
        {
          "output_type": "stream",
          "text": [
            "reset on 2014-01-27\n",
            "episode 0\n",
            "reset on 2015-04-09\n",
            "reset on 2012-03-26\n",
            "reset on 2015-10-08\n",
            "reset on 2011-06-22\n",
            "reset on 2015-01-13\n",
            "reset on 2010-10-12\n",
            "reset on 2016-01-12\n",
            "reset on 2014-01-21\n",
            "reset on 2011-06-14\n",
            "reset on 2014-12-10\n",
            "episode 10\n",
            "reset on 2014-02-05\n",
            "reset on 2012-10-11\n",
            "reset on 2012-05-11\n",
            "reset on 2018-10-26\n"
          ],
          "name": "stdout"
        },
        {
          "output_type": "stream",
          "text": [
            "/usr/local/lib/python3.6/dist-packages/ipykernel_launcher.py:161: RuntimeWarning: invalid value encountered in double_scalars\n"
          ],
          "name": "stderr"
        },
        {
          "output_type": "stream",
          "text": [
            "reset on 2015-02-24\n",
            "reset on 2014-08-13\n",
            "reset on 2015-06-12\n",
            "reset on 2018-01-05\n",
            "reset on 2015-06-19\n",
            "reset on 2011-09-21\n",
            "episode 20\n",
            "reset on 2013-01-24\n",
            "reset on 2016-08-03\n",
            "reset on 2012-09-13\n",
            "reset on 2013-03-06\n",
            "reset on 2014-04-28\n",
            "reset on 2012-09-18\n",
            "reset on 2019-08-30\n",
            "reset on 2015-09-11\n",
            "reset on 2010-06-21\n",
            "reset on 2019-01-22\n",
            "episode 30\n",
            "reset on 2011-02-08\n",
            "reset on 2017-12-14\n",
            "reset on 2015-10-01\n",
            "reset on 2013-07-22\n",
            "reset on 2016-06-30\n",
            "reset on 2011-03-02\n",
            "reset on 2012-10-26\n",
            "reset on 2017-07-13\n",
            "reset on 2017-02-21\n",
            "reset on 2018-05-01\n",
            "episode: 40/100, score: 381\n",
            "episode 40\n",
            "reset on 2019-10-09\n",
            "reset on 2017-07-20\n",
            "reset on 2011-01-03\n",
            "reset on 2013-04-26\n",
            "reset on 2010-11-24\n",
            "reset on 2010-03-05\n",
            "reset on 2015-10-30\n",
            "reset on 2017-09-14\n",
            "reset on 2016-06-01\n",
            "reset on 2015-05-21\n",
            "episode 50\n",
            "reset on 2012-09-21\n",
            "reset on 2017-07-11\n",
            "reset on 2017-02-28\n",
            "reset on 2011-12-07\n",
            "reset on 2013-07-30\n",
            "reset on 2011-08-02\n",
            "reset on 2017-11-08\n",
            "reset on 2010-06-02\n",
            "reset on 2014-05-20\n",
            "reset on 2013-01-14\n",
            "episode 60\n",
            "reset on 2014-12-22\n",
            "reset on 2012-11-16\n",
            "reset on 2019-10-28\n",
            "episode: 63/100, score: 5\n",
            "reset on 2014-07-07\n",
            "reset on 2019-07-17\n",
            "reset on 2017-12-15\n",
            "reset on 2011-03-21\n",
            "reset on 2011-12-06\n",
            "reset on 2012-05-04\n",
            "reset on 2011-06-30\n",
            "episode 70\n",
            "reset on 2013-02-26\n",
            "reset on 2014-12-03\n",
            "reset on 2011-10-21\n",
            "reset on 2015-01-23\n",
            "reset on 2013-12-05\n",
            "reset on 2017-07-12\n",
            "reset on 2019-03-13\n",
            "episode: 77/100, score: 164\n",
            "reset on 2013-12-03\n",
            "reset on 2016-05-25\n",
            "reset on 2014-08-01\n",
            "episode 80\n",
            "reset on 2017-12-12\n",
            "episode: 81/100, score: 476\n",
            "reset on 2011-10-25\n",
            "reset on 2010-04-08\n",
            "reset on 2011-06-09\n",
            "reset on 2010-09-24\n",
            "reset on 2015-09-23\n",
            "reset on 2017-05-04\n",
            "reset on 2016-08-05\n",
            "reset on 2017-07-18\n",
            "reset on 2016-12-23\n",
            "episode 90\n",
            "reset on 2010-11-11\n",
            "reset on 2011-04-26\n",
            "reset on 2016-09-29\n",
            "reset on 2016-12-08\n",
            "reset on 2017-12-13\n",
            "reset on 2012-01-04\n",
            "reset on 2014-06-10\n",
            "reset on 2019-04-24\n",
            "reset on 2018-04-25\n",
            "episode: 99/100, score: 385\n",
            "done\n"
          ],
          "name": "stdout"
        }
      ]
    },
    {
      "cell_type": "markdown",
      "metadata": {
        "id": "_AwSGRhDyeyO",
        "colab_type": "text"
      },
      "source": [
        "# Run it for one year"
      ]
    },
    {
      "cell_type": "code",
      "metadata": {
        "id": "q-tw1V85-71-",
        "colab_type": "code",
        "outputId": "32846fff-f32b-4b1d-e50f-fc55bad6dd87",
        "colab": {
          "base_uri": "https://localhost:8080/",
          "height": 323
        }
      },
      "source": [
        "state = env.reset()\n",
        "env.render()\n",
        "# time_t represents each frame of the game\n",
        "# Our goal is to keep the pole upright as long as possible until score of 500\n",
        "# the more time_t the more score\n",
        "# Runs through 1 year per episode \n",
        "for time_t in range(260):\n",
        "    # turn this on if you want to render\n",
        "    # env.render()\n",
        "    # Decide action\n",
        "    action = agent.act(state.flatten().reshape(1,42))\n",
        "    next_state, reward, done, _ = env.step(action[0])\n",
        "    # Remember the previous state, action, reward, and done\n",
        "    agent.remember(state, action, reward, next_state, done)\n",
        "    # make next_state the new current state for the next frame.\n",
        "    state = next_state\n",
        "    # done becomes True when the game ends\n",
        "    if done:\n",
        "        # print the score and break out of the loop\n",
        "        print(\"episode: {}/{}, score: {}\".format(e, episodes, time_t))\n",
        "        break\n",
        "\n",
        "print('\\n\\nAfter 1 year of trading')\n",
        "env.render()"
      ],
      "execution_count": 0,
      "outputs": [
        {
          "output_type": "stream",
          "text": [
            "reset on 2017-09-08\n",
            "Step: 1934\n",
            "Date: 2017-09-08\n",
            "Balance: 100000\n",
            "Shares held: 0 (Total sold: 0)\n",
            "Avg cost for held shares: 0 (Total sales value: 0)\n",
            "Net worth: 100000 (Max net worth: 100000)\n",
            "Profit: 0\n",
            "\n",
            "\n",
            "After 1 year of trading\n",
            "Step: 2194\n",
            "Date: 2018-09-20\n",
            "Balance: 6761.313856654688\n",
            "Shares held: 37 (Total sold: 1167)\n",
            "Avg cost for held shares: 2878.4510316014903 (Total sales value: 3156633.654356267)\n",
            "Net worth: 114352.66846155928 (Max net worth: 114352.66846155928)\n",
            "Profit: 14352.668461559282\n"
          ],
          "name": "stdout"
        }
      ]
    },
    {
      "cell_type": "code",
      "metadata": {
        "id": "R0xXGvU035Bi",
        "colab_type": "code",
        "colab": {}
      },
      "source": [
        "agent.model.save('/content/drive/My Drive/Masters project /data/100e_model.h5')"
      ],
      "execution_count": 0,
      "outputs": []
    }
  ]
}